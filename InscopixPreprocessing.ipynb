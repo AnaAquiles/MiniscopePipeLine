{
 "cells": [
  {
   "cell_type": "code",
   "execution_count": 1,
   "id": "ef0922a6-b704-4255-b490-7dd077ec5eeb",
   "metadata": {},
   "outputs": [],
   "source": [
    "import isx \n",
    "import os "
   ]
  },
  {
   "cell_type": "code",
   "execution_count": 21,
   "id": "94377212-89f6-4c71-b0d3-8e1af726acf9",
   "metadata": {},
   "outputs": [],
   "source": [
    "Series = {'Night': ['Ana-training_Janv-2025_2025-01-07-16-28-B_video',\n",
    "                    'Ana-training_Janv-2025_2025-01-07-17-24-C_video',\n",
    "                    'Ana-training_Janv-2025_2025-01-07-18-25-D_video',\n",
    "                    'Ana-training_Janv-2025_2025-01-07-19-08-F_video'\n",
    "                   ],\n",
    "          'Day'  : ['Ana-training_Janv-2025_2025-01-25-10-25-Bjour_video',\n",
    "                    'Ana-training_Janv-2025_2025-01-25-12-25-Cjour_video',\n",
    "                    'Ana-training_Janv-2025_2025-01-25-13-25-Djour_video',\n",
    "                    'Ana-training_Janv-2025_2025-01-25-13-25-Ejour_video'\n",
    "                   ]\n",
    "         }"
   ]
  },
  {
   "cell_type": "code",
   "execution_count": 22,
   "id": "cce1597b-7997-4fc4-b447-a95208e58750",
   "metadata": {},
   "outputs": [],
   "source": [
    "output_dir = os.path.join('Processed')\n",
    "os.makedirs(output_dir, exist_ok=True)"
   ]
  },
  {
   "cell_type": "code",
   "execution_count": 23,
   "id": "4c783b38-fd9f-45ff-8596-0656a8ac2d46",
   "metadata": {},
   "outputs": [],
   "source": [
    "# Process each series all the way to event detection.\n",
    "proc_movie_files = []\n",
    "proc_cs_files = []\n",
    "for series_name, rec_names in Series.items():\n",
    "\n",
    "    # Generate the recording file paths.\n",
    "    # Here, we start with pre-processed '*-PP-PP.isxd' files, but you would\n",
    "    # typically start with recording .xml files instead.\n",
    "    rec_files = [os.path.join(name + '.isxd') for name in rec_names]"
   ]
  },
  {
   "cell_type": "code",
   "execution_count": 24,
   "id": "e71bdb3f-8001-4ee6-8451-ca8f09daf5c3",
   "metadata": {},
   "outputs": [],
   "source": [
    "names = []\n",
    "\n",
    "for series_name, rec_names in Series.items():\n",
    "    names.append(rec_names) "
   ]
  },
  {
   "cell_type": "code",
   "execution_count": null,
   "id": "e945bffd-4384-456f-866e-1d07bd8ce4d8",
   "metadata": {},
   "outputs": [],
   "source": [
    "\n",
    "for name_list in names:\n",
    "    name = name_list[0]  # take the first element\n",
    "    tiff_movie_file = os.path.join(output_dir, name + '.tif')\n",
    "    isx.export_movie_to_tiff(rec_files, tiff_movie_file, write_invalid_frames=True)"
   ]
  }
 ],
 "metadata": {
  "kernelspec": {
   "display_name": "Python 3",
   "language": "python",
   "name": "python3"
  },
  "language_info": {
   "codemirror_mode": {
    "name": "ipython",
    "version": 3
   },
   "file_extension": ".py",
   "mimetype": "text/x-python",
   "name": "python",
   "nbconvert_exporter": "python",
   "pygments_lexer": "ipython3",
   "version": "3.6.13"
  }
 },
 "nbformat": 4,
 "nbformat_minor": 5
}
