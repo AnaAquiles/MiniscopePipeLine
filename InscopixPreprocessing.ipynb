{
 "cells": [
  {
   "cell_type": "code",
   "execution_count": 1,
   "id": "ef0922a6-b704-4255-b490-7dd077ec5eeb",
   "metadata": {},
   "outputs": [],
   "source": [
    "import isx \n",
    "import os \n",
    "from tqdm import tqdm"
   ]
  },
  {
   "cell_type": "markdown",
   "id": "555f188c-7a2e-4178-8313-70bc7074c046",
   "metadata": {},
   "source": [
    "# DOWNSAMPLING THE DATA"
   ]
  },
  {
   "cell_type": "code",
   "execution_count": 22,
   "id": "94377212-89f6-4c71-b0d3-8e1af726acf9",
   "metadata": {},
   "outputs": [],
   "source": [
    "Series = {\n",
    "    'Night': [\n",
    "        'Ana-training_Janv-2025_2025-01-06-15-A_video',\n",
    "        'Ana-training_Janv-2025_2025-01-07-17-24-C_video',\n",
    "        'Ana-training_Janv-2025_2025-01-06-16-E_video',\n",
    "        'Ana-training_Janv-2025_2025-01-07-18-25-D_video',\n",
    "        'Ana-training_Janv-2025_2025-01-07-19-08-F_video'\n",
    "    ],\n",
    "    'Day': [\n",
    "        'Ana-training_Janv-2025_2025-01-25-11-25-Ajour_video',\n",
    "        'Ana-training_Janv-2025_2025-01-25-10-25-Bjour_video',\n",
    "        'Ana-training_Janv-2025_2025-01-25-12-25-Cjour_video',\n",
    "        'Ana-training_Janv-2025_2025-01-25-13-25-Djour_video',\n",
    "        'Ana-training_Janv-2025_2025-01-25-13-25-Ejour_video'\n",
    "    ]\n",
    "}"
   ]
  },
  {
   "cell_type": "code",
   "execution_count": 23,
   "id": "cce1597b-7997-4fc4-b447-a95208e58750",
   "metadata": {},
   "outputs": [],
   "source": [
    "output_dir = os.path.join('Processed')\n",
    "os.makedirs(output_dir, exist_ok=True)"
   ]
  },
  {
   "cell_type": "markdown",
   "id": "b8d8f0a2-420e-45f4-b438-d5ad89f54146",
   "metadata": {},
   "source": [
    "## FROM THE RAW FILMS, downsample the size of the films, try between factor (2,4)"
   ]
  },
  {
   "cell_type": "code",
   "execution_count": 24,
   "id": "ef7c3752-0a11-4d29-9ea3-615e42245f95",
   "metadata": {},
   "outputs": [
    {
     "name": "stdout",
     "output_type": "stream",
     "text": [
      "Starting preprocessing of ISXD files with spatial downsampling...\n",
      "\n"
     ]
    },
    {
     "name": "stderr",
     "output_type": "stream",
     "text": [
      "Total progress:   0%|                                    | 0/10 [00:00<?, ?it/s]"
     ]
    },
    {
     "name": "stdout",
     "output_type": "stream",
     "text": [
      "Preprocessing Ana-training_Janv-2025_2025-01-06-15-A_video.isxd → Processed\\Night\\Ana-training_Janv-2025_2025-01-06-15-A_video--P.isxd\n"
     ]
    },
    {
     "name": "stderr",
     "output_type": "stream",
     "text": [
      "Total progress:  10%|██                   | 1/10 [1:37:53<14:41:04, 5873.85s/it]"
     ]
    },
    {
     "name": "stdout",
     "output_type": "stream",
     "text": [
      "Preprocessing Ana-training_Janv-2025_2025-01-07-17-24-C_video.isxd → Processed\\Night\\Ana-training_Janv-2025_2025-01-07-17-24-C_video--P.isxd\n"
     ]
    },
    {
     "name": "stderr",
     "output_type": "stream",
     "text": [
      "Total progress:  20%|████▏                | 2/10 [3:00:40<11:52:00, 5340.09s/it]"
     ]
    },
    {
     "name": "stdout",
     "output_type": "stream",
     "text": [
      "Preprocessing Ana-training_Janv-2025_2025-01-06-16-E_video.isxd → Processed\\Night\\Ana-training_Janv-2025_2025-01-06-16-E_video--P.isxd\n"
     ]
    },
    {
     "name": "stderr",
     "output_type": "stream",
     "text": [
      "Total progress:  30%|██████▌               | 3/10 [4:19:58<9:52:00, 5074.36s/it]"
     ]
    },
    {
     "name": "stdout",
     "output_type": "stream",
     "text": [
      "Preprocessing Ana-training_Janv-2025_2025-01-07-18-25-D_video.isxd → Processed\\Night\\Ana-training_Janv-2025_2025-01-07-18-25-D_video--P.isxd\n"
     ]
    },
    {
     "name": "stderr",
     "output_type": "stream",
     "text": [
      "Total progress:  40%|████████▊             | 4/10 [5:20:28<7:30:24, 4504.13s/it]"
     ]
    },
    {
     "name": "stdout",
     "output_type": "stream",
     "text": [
      "Preprocessing Ana-training_Janv-2025_2025-01-07-19-08-F_video.isxd → Processed\\Night\\Ana-training_Janv-2025_2025-01-07-19-08-F_video--P.isxd\n"
     ]
    },
    {
     "name": "stderr",
     "output_type": "stream",
     "text": [
      "Total progress:  50%|███████████           | 5/10 [6:39:02<6:21:38, 4579.77s/it]"
     ]
    },
    {
     "name": "stdout",
     "output_type": "stream",
     "text": [
      "Preprocessing Ana-training_Janv-2025_2025-01-25-11-25-Ajour_video.isxd → Processed\\Day\\Ana-training_Janv-2025_2025-01-25-11-25-Ajour_video--P.isxd\n"
     ]
    },
    {
     "name": "stderr",
     "output_type": "stream",
     "text": [
      "Total progress:  60%|█████████████▏        | 6/10 [8:11:08<5:26:46, 4901.63s/it]"
     ]
    },
    {
     "name": "stdout",
     "output_type": "stream",
     "text": [
      "Preprocessing Ana-training_Janv-2025_2025-01-25-10-25-Bjour_video.isxd → Processed\\Day\\Ana-training_Janv-2025_2025-01-25-10-25-Bjour_video--P.isxd\n"
     ]
    },
    {
     "name": "stderr",
     "output_type": "stream",
     "text": [
      "Total progress:  70%|███████████████▍      | 7/10 [9:49:59<4:21:54, 5238.11s/it]"
     ]
    },
    {
     "name": "stdout",
     "output_type": "stream",
     "text": [
      "Preprocessing Ana-training_Janv-2025_2025-01-25-12-25-Cjour_video.isxd → Processed\\Day\\Ana-training_Janv-2025_2025-01-25-12-25-Cjour_video--P.isxd\n"
     ]
    },
    {
     "name": "stderr",
     "output_type": "stream",
     "text": [
      "Total progress:  80%|████████████████▊    | 8/10 [10:47:53<2:35:52, 4676.35s/it]"
     ]
    },
    {
     "name": "stdout",
     "output_type": "stream",
     "text": [
      "Preprocessing Ana-training_Janv-2025_2025-01-25-13-25-Djour_video.isxd → Processed\\Day\\Ana-training_Janv-2025_2025-01-25-13-25-Djour_video--P.isxd\n"
     ]
    },
    {
     "name": "stderr",
     "output_type": "stream",
     "text": [
      "Total progress:  90%|██████████████████▉  | 9/10 [11:59:21<1:15:55, 4555.17s/it]"
     ]
    },
    {
     "name": "stdout",
     "output_type": "stream",
     "text": [
      "Preprocessing Ana-training_Janv-2025_2025-01-25-13-25-Ejour_video.isxd → Processed\\Day\\Ana-training_Janv-2025_2025-01-25-13-25-Ejour_video--P.isxd\n"
     ]
    },
    {
     "name": "stderr",
     "output_type": "stream",
     "text": [
      "Total progress: 100%|██████████████████████| 10/10 [13:04:32<00:00, 4707.28s/it]"
     ]
    },
    {
     "name": "stdout",
     "output_type": "stream",
     "text": [
      "\n",
      "✅ All preprocessing complete.\n"
     ]
    },
    {
     "name": "stderr",
     "output_type": "stream",
     "text": [
      "\n"
     ]
    }
   ],
   "source": [
    "\n",
    "# Flatten all files to count total for progress bar\n",
    "all_files = [f for recs in Series.values() for f in recs]\n",
    "\n",
    "print(\"Starting preprocessing of ISXD files with spatial downsampling...\\n\")\n",
    "\n",
    "with tqdm(total=len(all_files), desc=\"Total progress\", ncols=80) as pbar:\n",
    "    for series_name, rec_names in Series.items():\n",
    "        series_output_dir = os.path.join(output_dir, series_name)\n",
    "        os.makedirs(series_output_dir, exist_ok=True)\n",
    "\n",
    "        # Build input file paths\n",
    "        rec_files = [rec_name + '.isxd' for rec_name in rec_names]\n",
    "\n",
    "        # Build output file paths for preprocessed files\n",
    "        pp_files = isx.make_output_file_paths(rec_files, series_output_dir, suffix='-P')\n",
    "\n",
    "        for rec_file, pp_file in zip(rec_files, pp_files):\n",
    "            tqdm.write(f\"Preprocessing {rec_file} → {pp_file}\")\n",
    "\n",
    "            # Preprocess with spatial downsampling factor = 2\n",
    "            isx.preprocess([rec_file], [pp_file], spatial_downsample_factor=4)\n",
    "\n",
    "            # Update progress bar\n",
    "            pbar.update(1)\n",
    "\n",
    "print(\"\\n✅ All preprocessing complete.\")\n"
   ]
  },
  {
   "cell_type": "markdown",
   "id": "182973c1-fdb9-4d94-813e-3c867fd0c763",
   "metadata": {},
   "source": [
    "# Convert to .tif JOINABLE TO COMMON PYTHON FUNTIONS"
   ]
  },
  {
   "cell_type": "markdown",
   "id": "28510516-5615-4189-9f7b-3cb9f54f2e9c",
   "metadata": {},
   "source": [
    "### First ensure you are in the correct folder chich contains files --P.isxd, previously downsampled"
   ]
  },
  {
   "cell_type": "code",
   "execution_count": 2,
   "id": "5ff7c3ba-fcef-47c7-b472-bfae0d412119",
   "metadata": {},
   "outputs": [
    {
     "name": "stdout",
     "output_type": "stream",
     "text": [
      "\\\\ocean.igf.internal\\invivo\\INSCOPIX\\Ana\\Processed\\Night\n"
     ]
    }
   ],
   "source": [
    "%cd Processed/Night"
   ]
  },
  {
   "cell_type": "code",
   "execution_count": 3,
   "id": "bbc0dabc-f437-4176-83ce-4c03b47cdc29",
   "metadata": {},
   "outputs": [],
   "source": [
    "Series2 = {\n",
    "    'Night': [\n",
    "        'Ana-training_Janv-2025_2025-01-06-15-A_video--P',\n",
    "        'Ana-training_Janv-2025_2025-01-06-16-E_video--P',\n",
    "        'Ana-training_Janv-2025_2025-01-07-16-28-B_video--P',\n",
    "        'Ana-training_Janv-2025_2025-01-07-17-24-C_video--P',\n",
    "        'Ana-training_Janv-2025_2025-01-07-18-25-D_video--P',\n",
    "        'Ana-training_Janv-2025_2025-01-07-19-08-F_video--P'\n",
    "    ]}"
   ]
  },
  {
   "cell_type": "code",
   "execution_count": 4,
   "id": "f1765c03-b5d3-4fc6-bdb9-f5ef87862d29",
   "metadata": {},
   "outputs": [
    {
     "name": "stdout",
     "output_type": "stream",
     "text": [
      "\\\\ocean.igf.internal\\invivo\\INSCOPIX\\Ana\\Processed\\Night\n"
     ]
    }
   ],
   "source": [
    "notebook_path = os.getcwd()\n",
    "print(notebook_path)"
   ]
  },
  {
   "cell_type": "code",
   "execution_count": null,
   "id": "4c783b38-fd9f-45ff-8596-0656a8ac2d46",
   "metadata": {},
   "outputs": [
    {
     "name": "stdout",
     "output_type": "stream",
     "text": [
      "Starting conversion of ISXD → TIFF...\n",
      "\n"
     ]
    },
    {
     "name": "stderr",
     "output_type": "stream",
     "text": [
      "Total progress:   0%|                                     | 0/6 [00:00<?, ?it/s]"
     ]
    },
    {
     "name": "stdout",
     "output_type": "stream",
     "text": [
      "Converting Ana-training_Janv-2025_2025-01-06-15-A_video--P.isxd → TiffFiles\\Night\\Ana-training_Janv-2025_2025-01-06-15-A_video--P.tif\n"
     ]
    }
   ],
   "source": [
    "\n",
    "output_dir = os.path.join('TiffFiles')\n",
    "os.makedirs(output_dir, exist_ok=True)\n",
    "\n",
    "# Count total number of files for a global progress bar\n",
    "all_files = [f for recs in Series2.values() for f in recs]\n",
    "\n",
    "print(\"Starting conversion of ISXD → TIFF...\\n\")\n",
    "\n",
    "with tqdm(total=len(all_files), desc=\"Total progress\", ncols=80) as pbar:\n",
    "    for series_name, rec_names in Series2.items():\n",
    "        series_output_dir = os.path.join(output_dir, series_name)\n",
    "        os.makedirs(series_output_dir, exist_ok=True)\n",
    "\n",
    "        for rec_name in rec_names:\n",
    "            rec_file = rec_name + '.isxd'\n",
    "            tiff_movie_file = os.path.join(series_output_dir, rec_name + '.tif')\n",
    "\n",
    "            tqdm.write(f\"Converting {rec_file} → {tiff_movie_file}\")\n",
    "\n",
    "            isx.export_movie_to_tiff(rec_file, tiff_movie_file, write_invalid_frames=True)\n",
    "\n",
    "            # Update progress bar\n",
    "            pbar.update(1)\n",
    "\n",
    "print(\"\\n✅ All conversions complete.\")\n"
   ]
  },
  {
   "cell_type": "code",
   "execution_count": null,
   "id": "b7ed7d20-5a41-4241-8c35-ac10ba00961f",
   "metadata": {},
   "outputs": [],
   "source": [
    "\n",
    "for name_list in names:\n",
    "    name = name_list[0]  # take the first element\n",
    "    tiff_movie_file = os.path.join(output_dir, name + '.tif')\n",
    "    isx.export_movie_to_tiff(rec_files, tiff_movie_file, write_invalid_frames=True)"
   ]
  },
  {
   "cell_type": "code",
   "execution_count": 5,
   "id": "75a6d6cc-753d-44a8-84c2-8e230a41ecaf",
   "metadata": {},
   "outputs": [
    {
     "data": {
      "text/plain": [
       "['Ana-training_Janv-2025_2025-01-06-15-A_video--P',\n",
       " 'Ana-training_Janv-2025_2025-01-06-16-E_video--P',\n",
       " 'Ana-training_Janv-2025_2025-01-07-16-28-B_video--P',\n",
       " 'Ana-training_Janv-2025_2025-01-07-17-24-C_video--P',\n",
       " 'Ana-training_Janv-2025_2025-01-07-18-25-D_video--P',\n",
       " 'Ana-training_Janv-2025_2025-01-07-19-08-F_video--P']"
      ]
     },
     "execution_count": 5,
     "metadata": {},
     "output_type": "execute_result"
    }
   ],
   "source": [
    "all_files = [f for recs in Series2.values() for f in recs]\n",
    "all_files"
   ]
  },
  {
   "cell_type": "code",
   "execution_count": 19,
   "id": "2b2db985-94c4-4d44-ba60-55e030fdfa80",
   "metadata": {},
   "outputs": [],
   "source": [
    "## Exercise to spatial_downsample \n",
    "# without convert tp .tiff\n",
    "pp_files = isx.make_output_file_paths(rec_files, output_dir, '-P')\n",
    "isx.preprocess(rec_files, pp_files, spatial_downsample_factor=2)"
   ]
  },
  {
   "cell_type": "code",
   "execution_count": 16,
   "id": "e71bdb3f-8001-4ee6-8451-ca8f09daf5c3",
   "metadata": {},
   "outputs": [],
   "source": [
    "names = []\n",
    "\n",
    "for series_name, rec_names in Series.items():\n",
    "    names.append(rec_names) "
   ]
  }
 ],
 "metadata": {
  "kernelspec": {
   "display_name": "Python 3",
   "language": "python",
   "name": "python3"
  },
  "language_info": {
   "codemirror_mode": {
    "name": "ipython",
    "version": 3
   },
   "file_extension": ".py",
   "mimetype": "text/x-python",
   "name": "python",
   "nbconvert_exporter": "python",
   "pygments_lexer": "ipython3",
   "version": "3.6.13"
  }
 },
 "nbformat": 4,
 "nbformat_minor": 5
}
